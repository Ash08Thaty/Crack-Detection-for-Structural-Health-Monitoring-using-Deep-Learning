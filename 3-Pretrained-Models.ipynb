{
 "cells": [
  {
   "cell_type": "markdown",
   "metadata": {
    "button": false,
    "new_sheet": false,
    "run_control": {
     "read_only": false
    }
   },
   "source": [
    "## Import Libraries and Packages"
   ]
  },
  {
   "cell_type": "code",
   "execution_count": 1,
   "metadata": {
    "button": false,
    "new_sheet": false,
    "run_control": {
     "read_only": false
    }
   },
   "outputs": [
    {
     "name": "stderr",
     "output_type": "stream",
     "text": [
      "Using TensorFlow backend.\n"
     ]
    }
   ],
   "source": [
    "from keras.preprocessing.image import ImageDataGenerator"
   ]
  },
  {
   "cell_type": "code",
   "execution_count": 2,
   "metadata": {
    "button": false,
    "new_sheet": false,
    "run_control": {
     "read_only": false
    }
   },
   "outputs": [],
   "source": [
    "import keras\n",
    "from keras.models import Sequential\n",
    "from keras.layers import Dense"
   ]
  },
  {
   "cell_type": "code",
   "execution_count": 3,
   "metadata": {
    "button": false,
    "new_sheet": false,
    "run_control": {
     "read_only": false
    }
   },
   "outputs": [],
   "source": [
    "from keras.applications import ResNet50\n",
    "from keras.applications.resnet50 import preprocess_input"
   ]
  },
  {
   "cell_type": "markdown",
   "metadata": {
    "button": false,
    "new_sheet": false,
    "run_control": {
     "read_only": false
    }
   },
   "source": [
    "## Download Data"
   ]
  },
  {
   "cell_type": "code",
   "execution_count": 4,
   "metadata": {
    "button": false,
    "new_sheet": false,
    "run_control": {
     "read_only": false
    }
   },
   "outputs": [
    {
     "name": "stdout",
     "output_type": "stream",
     "text": [
      "--2020-06-29 15:40:50--  https://s3-api.us-geo.objectstorage.softlayer.net/cf-courses-data/CognitiveClass/DL0321EN/data/concrete_data_week3.zip\n",
      "Resolving s3-api.us-geo.objectstorage.softlayer.net (s3-api.us-geo.objectstorage.softlayer.net)... 67.228.254.196\n",
      "Connecting to s3-api.us-geo.objectstorage.softlayer.net (s3-api.us-geo.objectstorage.softlayer.net)|67.228.254.196|:443... connected.\n",
      "HTTP request sent, awaiting response... 200 OK\n",
      "Length: 261482368 (249M) [application/zip]\n",
      "Saving to: ‘concrete_data_week3.zip’\n",
      "\n",
      "concrete_data_week3 100%[===================>] 249.37M   761KB/s    in 2m 7s   \n",
      "\n",
      "2020-06-29 15:42:58 (1.96 MB/s) - ‘concrete_data_week3.zip’ saved [261482368/261482368]\n",
      "\n"
     ]
    }
   ],
   "source": [
    "## get the data\n",
    "!wget https://s3-api.us-geo.objectstorage.softlayer.net/cf-courses-data/CognitiveClass/DL0321EN/data/concrete_data_week3.zip"
   ]
  },
  {
   "cell_type": "code",
   "execution_count": 5,
   "metadata": {
    "button": false,
    "new_sheet": false,
    "run_control": {
     "read_only": false
    },
    "scrolled": true
   },
   "outputs": [],
   "source": [
    "!unzip -q concrete_data_week3.zip"
   ]
  },
  {
   "cell_type": "markdown",
   "metadata": {
    "button": false,
    "new_sheet": false,
    "run_control": {
     "read_only": false
    }
   },
   "source": [
    "## Defining Global Constants"
   ]
  },
  {
   "cell_type": "code",
   "execution_count": 6,
   "metadata": {
    "button": false,
    "new_sheet": false,
    "run_control": {
     "read_only": false
    }
   },
   "outputs": [],
   "source": [
    "num_classes = 2\n",
    "\n",
    "image_resize = 224\n",
    "\n",
    "batch_size_training = 100\n",
    "batch_size_validation = 100"
   ]
  },
  {
   "cell_type": "markdown",
   "metadata": {
    "button": false,
    "new_sheet": false,
    "run_control": {
     "read_only": false
    }
   },
   "source": [
    "## Constructing ImageDataGenerator"
   ]
  },
  {
   "cell_type": "code",
   "execution_count": 7,
   "metadata": {
    "button": false,
    "new_sheet": false,
    "run_control": {
     "read_only": false
    }
   },
   "outputs": [],
   "source": [
    "data_generator = ImageDataGenerator(\n",
    "    preprocessing_function=preprocess_input,\n",
    ")"
   ]
  },
  {
   "cell_type": "code",
   "execution_count": 8,
   "metadata": {
    "button": false,
    "new_sheet": false,
    "run_control": {
     "read_only": false
    }
   },
   "outputs": [
    {
     "name": "stdout",
     "output_type": "stream",
     "text": [
      "Found 30001 images belonging to 2 classes.\n"
     ]
    }
   ],
   "source": [
    "train_generator = data_generator.flow_from_directory(\n",
    "    'concrete_data_week3/train',\n",
    "    target_size=(image_resize, image_resize),\n",
    "    batch_size=batch_size_training,\n",
    "    class_mode='categorical')"
   ]
  },
  {
   "cell_type": "code",
   "execution_count": 9,
   "metadata": {
    "button": false,
    "new_sheet": false,
    "run_control": {
     "read_only": false
    }
   },
   "outputs": [
    {
     "name": "stdout",
     "output_type": "stream",
     "text": [
      "Found 10001 images belonging to 2 classes.\n"
     ]
    }
   ],
   "source": [
    "## Type your answer here\n",
    "validation_generator = data_generator.flow_from_directory(\n",
    "    \"concrete_data_week3/valid\",\n",
    "    target_size=(image_resize, image_resize),\n",
    "    batch_size=batch_size_validation,\n",
    "    class_mode=\"categorical\",\n",
    ")"
   ]
  },
  {
   "cell_type": "markdown",
   "metadata": {
    "button": false,
    "new_sheet": false,
    "run_control": {
     "read_only": false
    }
   },
   "source": [
    "## Build, Compile and Fit Model"
   ]
  },
  {
   "cell_type": "code",
   "execution_count": 10,
   "metadata": {
    "button": false,
    "new_sheet": false,
    "run_control": {
     "read_only": false
    }
   },
   "outputs": [],
   "source": [
    "model = Sequential()"
   ]
  },
  {
   "cell_type": "code",
   "execution_count": 11,
   "metadata": {
    "button": false,
    "new_sheet": false,
    "run_control": {
     "read_only": false
    }
   },
   "outputs": [
    {
     "name": "stdout",
     "output_type": "stream",
     "text": [
      "Downloading data from https://github.com/fchollet/deep-learning-models/releases/download/v0.2/resnet50_weights_tf_dim_ordering_tf_kernels_notop.h5\n",
      "94658560/94653016 [==============================] - 93s 1us/step\n"
     ]
    }
   ],
   "source": [
    "model.add(ResNet50(\n",
    "    include_top=False,\n",
    "    pooling='avg',\n",
    "    weights='imagenet',\n",
    "    ))"
   ]
  },
  {
   "cell_type": "code",
   "execution_count": 12,
   "metadata": {
    "button": false,
    "new_sheet": false,
    "run_control": {
     "read_only": false
    }
   },
   "outputs": [],
   "source": [
    "model.add(Dense(num_classes, activation='softmax'))"
   ]
  },
  {
   "cell_type": "code",
   "execution_count": 13,
   "metadata": {
    "button": false,
    "new_sheet": false,
    "run_control": {
     "read_only": false
    }
   },
   "outputs": [
    {
     "data": {
      "text/plain": [
       "[<keras.engine.training.Model at 0x7fae570dd710>,\n",
       " <keras.layers.core.Dense at 0x7fae69634790>]"
      ]
     },
     "execution_count": 13,
     "metadata": {},
     "output_type": "execute_result"
    }
   ],
   "source": [
    "model.layers"
   ]
  },
  {
   "cell_type": "code",
   "execution_count": 14,
   "metadata": {
    "button": false,
    "new_sheet": false,
    "run_control": {
     "read_only": false
    },
    "scrolled": true
   },
   "outputs": [
    {
     "data": {
      "text/plain": [
       "[<keras.engine.input_layer.InputLayer at 0x7fae76c5ba10>,\n",
       " <keras.layers.convolutional.ZeroPadding2D at 0x7fae76c5b810>,\n",
       " <keras.layers.convolutional.Conv2D at 0x7fae76c5bd50>,\n",
       " <keras.layers.normalization.BatchNormalization at 0x7fae7ad26250>,\n",
       " <keras.layers.core.Activation at 0x7fae76c5bf10>,\n",
       " <keras.layers.convolutional.ZeroPadding2D at 0x7fae7b9a4050>,\n",
       " <keras.layers.pooling.MaxPooling2D at 0x7fae7b9a4390>,\n",
       " <keras.layers.convolutional.Conv2D at 0x7fae76c5a550>,\n",
       " <keras.layers.normalization.BatchNormalization at 0x7fae7c1fb950>,\n",
       " <keras.layers.core.Activation at 0x7fae7c1fb910>,\n",
       " <keras.layers.convolutional.Conv2D at 0x7fae7c1fbf90>,\n",
       " <keras.layers.normalization.BatchNormalization at 0x7fae7c36af10>,\n",
       " <keras.layers.core.Activation at 0x7fae7c3e0e90>,\n",
       " <keras.layers.convolutional.Conv2D at 0x7fae7c3fd2d0>,\n",
       " <keras.layers.convolutional.Conv2D at 0x7fae7c54ec10>,\n",
       " <keras.layers.normalization.BatchNormalization at 0x7fae7c54ee50>,\n",
       " <keras.layers.normalization.BatchNormalization at 0x7fae7c5faad0>,\n",
       " <keras.layers.merge.Add at 0x7fae7c188f10>,\n",
       " <keras.layers.core.Activation at 0x7fae7c63eb10>,\n",
       " <keras.layers.convolutional.Conv2D at 0x7fae7c6d9990>,\n",
       " <keras.layers.normalization.BatchNormalization at 0x7fae7c744bd0>,\n",
       " <keras.layers.core.Activation at 0x7fae7c760710>,\n",
       " <keras.layers.convolutional.Conv2D at 0x7fae7c7c9f10>,\n",
       " <keras.layers.normalization.BatchNormalization at 0x7fae7c835dd0>,\n",
       " <keras.layers.core.Activation at 0x7fae7c84f3d0>,\n",
       " <keras.layers.convolutional.Conv2D at 0x7fae7c8358d0>,\n",
       " <keras.layers.normalization.BatchNormalization at 0x7fae7cb1eb90>,\n",
       " <keras.layers.merge.Add at 0x7fae7cb98f50>,\n",
       " <keras.layers.core.Activation at 0x7fae7cb1eb50>,\n",
       " <keras.layers.convolutional.Conv2D at 0x7fae7cbb3650>,\n",
       " <keras.layers.normalization.BatchNormalization at 0x7fae7cc0f610>,\n",
       " <keras.layers.core.Activation at 0x7fae7cc0ff10>,\n",
       " <keras.layers.convolutional.Conv2D at 0x7fae7cc24c50>,\n",
       " <keras.layers.normalization.BatchNormalization at 0x7fae7ccf6b90>,\n",
       " <keras.layers.core.Activation at 0x7fae7ccf6d90>,\n",
       " <keras.layers.convolutional.Conv2D at 0x7fae7ce8ce90>,\n",
       " <keras.layers.normalization.BatchNormalization at 0x7fae7cea2c90>,\n",
       " <keras.layers.merge.Add at 0x7fae7cf19350>,\n",
       " <keras.layers.core.Activation at 0x7fae7ceff790>,\n",
       " <keras.layers.convolutional.Conv2D at 0x7fae7cf75dd0>,\n",
       " <keras.layers.normalization.BatchNormalization at 0x7fae7cfe5950>,\n",
       " <keras.layers.core.Activation at 0x7fae7cffed10>,\n",
       " <keras.layers.convolutional.Conv2D at 0x7fae7d020f90>,\n",
       " <keras.layers.normalization.BatchNormalization at 0x7fae7d0d18d0>,\n",
       " <keras.layers.core.Activation at 0x7fae7d0d1b10>,\n",
       " <keras.layers.convolutional.Conv2D at 0x7fae7d0ef6d0>,\n",
       " <keras.layers.convolutional.Conv2D at 0x7fae7d5d74d0>,\n",
       " <keras.layers.normalization.BatchNormalization at 0x7fae7d5bfb50>,\n",
       " <keras.layers.normalization.BatchNormalization at 0x7fae7d669b50>,\n",
       " <keras.layers.merge.Add at 0x7fae7d6e2150>,\n",
       " <keras.layers.core.Activation at 0x7fae7d6c9610>,\n",
       " <keras.layers.convolutional.Conv2D at 0x7fae7d9429d0>,\n",
       " <keras.layers.normalization.BatchNormalization at 0x7fae7d9b65d0>,\n",
       " <keras.layers.core.Activation at 0x7fae7da2d9d0>,\n",
       " <keras.layers.convolutional.Conv2D at 0x7fae7d9d0d90>,\n",
       " <keras.layers.normalization.BatchNormalization at 0x7fae7daa0dd0>,\n",
       " <keras.layers.core.Activation at 0x7fae7db16e50>,\n",
       " <keras.layers.convolutional.Conv2D at 0x7fae7daa0710>,\n",
       " <keras.layers.normalization.BatchNormalization at 0x7fae7db88e50>,\n",
       " <keras.layers.merge.Add at 0x7fae7db88950>,\n",
       " <keras.layers.core.Activation at 0x7fae7dba8e50>,\n",
       " <keras.layers.convolutional.Conv2D at 0x7fae7dc278d0>,\n",
       " <keras.layers.normalization.BatchNormalization at 0x7fae7dc8dd10>,\n",
       " <keras.layers.core.Activation at 0x7fae7dce9e90>,\n",
       " <keras.layers.convolutional.Conv2D at 0x7fae7dc8de50>,\n",
       " <keras.layers.normalization.BatchNormalization at 0x7fae7de7af50>,\n",
       " <keras.layers.core.Activation at 0x7fae7def5b90>,\n",
       " <keras.layers.convolutional.Conv2D at 0x7fae7de7acd0>,\n",
       " <keras.layers.normalization.BatchNormalization at 0x7fae7e068d90>,\n",
       " <keras.layers.merge.Add at 0x7fae7e0dfe90>,\n",
       " <keras.layers.core.Activation at 0x7fae7e068dd0>,\n",
       " <keras.layers.convolutional.Conv2D at 0x7fae7e0fe910>,\n",
       " <keras.layers.normalization.BatchNormalization at 0x7fae7e151a90>,\n",
       " <keras.layers.core.Activation at 0x7fae7e151c50>,\n",
       " <keras.layers.convolutional.Conv2D at 0x7fae7e1700d0>,\n",
       " <keras.layers.normalization.BatchNormalization at 0x7fae7e243990>,\n",
       " <keras.layers.core.Activation at 0x7fae7e243910>,\n",
       " <keras.layers.convolutional.Conv2D at 0x7fae7e259610>,\n",
       " <keras.layers.normalization.BatchNormalization at 0x7fae5ec82590>,\n",
       " <keras.layers.merge.Add at 0x7fae5ecbbe50>,\n",
       " <keras.layers.core.Activation at 0x7fae5ec9df10>,\n",
       " <keras.layers.convolutional.Conv2D at 0x7fae5ec9dfd0>,\n",
       " <keras.layers.normalization.BatchNormalization at 0x7fae5ed6ed90>,\n",
       " <keras.layers.core.Activation at 0x7fae5eda5e50>,\n",
       " <keras.layers.convolutional.Conv2D at 0x7fae5ee03210>,\n",
       " <keras.layers.normalization.BatchNormalization at 0x7fae5ee5ae50>,\n",
       " <keras.layers.core.Activation at 0x7fae5ee5af10>,\n",
       " <keras.layers.convolutional.Conv2D at 0x7fae5eef8cd0>,\n",
       " <keras.layers.convolutional.Conv2D at 0x7fae600e2b90>,\n",
       " <keras.layers.normalization.BatchNormalization at 0x7fae600cd910>,\n",
       " <keras.layers.normalization.BatchNormalization at 0x7fae60174f10>,\n",
       " <keras.layers.merge.Add at 0x7fae6015bfd0>,\n",
       " <keras.layers.core.Activation at 0x7fae601ca310>,\n",
       " <keras.layers.convolutional.Conv2D at 0x7fae60247d50>,\n",
       " <keras.layers.normalization.BatchNormalization at 0x7fae602bb750>,\n",
       " <keras.layers.core.Activation at 0x7fae60337f10>,\n",
       " <keras.layers.convolutional.Conv2D at 0x7fae602d2a90>,\n",
       " <keras.layers.normalization.BatchNormalization at 0x7fae603a9710>,\n",
       " <keras.layers.core.Activation at 0x7fae603c2b90>,\n",
       " <keras.layers.convolutional.Conv2D at 0x7fae603a9d90>,\n",
       " <keras.layers.normalization.BatchNormalization at 0x7fae60490a50>,\n",
       " <keras.layers.merge.Add at 0x7fae60490f10>,\n",
       " <keras.layers.core.Activation at 0x7fae604aa410>,\n",
       " <keras.layers.convolutional.Conv2D at 0x7fae6052edd0>,\n",
       " <keras.layers.normalization.BatchNormalization at 0x7fae60599250>,\n",
       " <keras.layers.core.Activation at 0x7fae60599e50>,\n",
       " <keras.layers.convolutional.Conv2D at 0x7fae60712e50>,\n",
       " <keras.layers.normalization.BatchNormalization at 0x7fae607809d0>,\n",
       " <keras.layers.core.Activation at 0x7fae607fdf10>,\n",
       " <keras.layers.convolutional.Conv2D at 0x7fae60780a90>,\n",
       " <keras.layers.normalization.BatchNormalization at 0x7fae60972f50>,\n",
       " <keras.layers.merge.Add at 0x7fae6098ab50>,\n",
       " <keras.layers.core.Activation at 0x7fae60972890>,\n",
       " <keras.layers.convolutional.Conv2D at 0x7fae60a09bd0>,\n",
       " <keras.layers.normalization.BatchNormalization at 0x7fae60a73bd0>,\n",
       " <keras.layers.core.Activation at 0x7fae60a8d610>,\n",
       " <keras.layers.convolutional.Conv2D at 0x7fae60af5f10>,\n",
       " <keras.layers.normalization.BatchNormalization at 0x7fae60b8ad90>,\n",
       " <keras.layers.core.Activation at 0x7fae60ba6390>,\n",
       " <keras.layers.convolutional.Conv2D at 0x7fae60b8a890>,\n",
       " <keras.layers.normalization.BatchNormalization at 0x7fae62d70b90>,\n",
       " <keras.layers.merge.Add at 0x7fae62f06f50>,\n",
       " <keras.layers.core.Activation at 0x7fae62d70b50>,\n",
       " <keras.layers.convolutional.Conv2D at 0x7fae62f1f650>,\n",
       " <keras.layers.normalization.BatchNormalization at 0x7fae62f80610>,\n",
       " <keras.layers.core.Activation at 0x7fae62f80f10>,\n",
       " <keras.layers.convolutional.Conv2D at 0x7fae63011dd0>,\n",
       " <keras.layers.normalization.BatchNormalization at 0x7fae630b2ed0>,\n",
       " <keras.layers.core.Activation at 0x7fae630b2b90>,\n",
       " <keras.layers.convolutional.Conv2D at 0x7fae630c7d50>,\n",
       " <keras.layers.normalization.BatchNormalization at 0x7fae6315acd0>,\n",
       " <keras.layers.merge.Add at 0x7fae631d1f10>,\n",
       " <keras.layers.core.Activation at 0x7fae631b57d0>,\n",
       " <keras.layers.convolutional.Conv2D at 0x7fae6322ea90>,\n",
       " <keras.layers.normalization.BatchNormalization at 0x7fae6329e950>,\n",
       " <keras.layers.core.Activation at 0x7fae632b6d10>,\n",
       " <keras.layers.convolutional.Conv2D at 0x7fae6340ff90>,\n",
       " <keras.layers.normalization.BatchNormalization at 0x7fae634bf990>,\n",
       " <keras.layers.core.Activation at 0x7fae634bf390>,\n",
       " <keras.layers.convolutional.Conv2D at 0x7fae634ddd10>,\n",
       " <keras.layers.normalization.BatchNormalization at 0x7fae635aeb50>,\n",
       " <keras.layers.merge.Add at 0x7fae635aed50>,\n",
       " <keras.layers.core.Activation at 0x7fae635c4e90>,\n",
       " <keras.layers.convolutional.Conv2D at 0x7fae63645d90>,\n",
       " <keras.layers.normalization.BatchNormalization at 0x7fae636b6610>,\n",
       " <keras.layers.core.Activation at 0x7fae6372dd10>,\n",
       " <keras.layers.convolutional.Conv2D at 0x7fae636d2dd0>,\n",
       " <keras.layers.normalization.BatchNormalization at 0x7fae6379fd90>,\n",
       " <keras.layers.core.Activation at 0x7fae63817e90>,\n",
       " <keras.layers.convolutional.Conv2D at 0x7fae6379f6d0>,\n",
       " <keras.layers.convolutional.Conv2D at 0x7fae67a89a90>,\n",
       " <keras.layers.normalization.BatchNormalization at 0x7fae67a89950>,\n",
       " <keras.layers.normalization.BatchNormalization at 0x7fae67b33b50>,\n",
       " <keras.layers.merge.Add at 0x7fae67ba9a10>,\n",
       " <keras.layers.core.Activation at 0x7fae67b76ad0>,\n",
       " <keras.layers.convolutional.Conv2D at 0x7fae67e11dd0>,\n",
       " <keras.layers.normalization.BatchNormalization at 0x7fae67e7bfd0>,\n",
       " <keras.layers.core.Activation at 0x7fae67ed9e10>,\n",
       " <keras.layers.convolutional.Conv2D at 0x7fae67e7b450>,\n",
       " <keras.layers.normalization.BatchNormalization at 0x7fae67f65f50>,\n",
       " <keras.layers.core.Activation at 0x7fae67fe3b90>,\n",
       " <keras.layers.convolutional.Conv2D at 0x7fae67f65990>,\n",
       " <keras.layers.normalization.BatchNormalization at 0x7fae6815a650>,\n",
       " <keras.layers.merge.Add at 0x7fae681d0e10>,\n",
       " <keras.layers.core.Activation at 0x7fae6815ad90>,\n",
       " <keras.layers.convolutional.Conv2D at 0x7fae681ef850>,\n",
       " <keras.layers.normalization.BatchNormalization at 0x7fae68242a90>,\n",
       " <keras.layers.core.Activation at 0x7fae68276f10>,\n",
       " <keras.layers.convolutional.Conv2D at 0x7fae68261ad0>,\n",
       " <keras.layers.normalization.BatchNormalization at 0x7fae68333990>,\n",
       " <keras.layers.core.Activation at 0x7fae68333910>,\n",
       " <keras.layers.convolutional.Conv2D at 0x7fae68348610>,\n",
       " <keras.layers.normalization.BatchNormalization at 0x7fae57032f50>,\n",
       " <keras.layers.merge.Add at 0x7fae570aba50>,\n",
       " <keras.layers.core.Activation at 0x7fae57032350>,\n",
       " <keras.layers.pooling.GlobalAveragePooling2D at 0x7fae6815a110>]"
      ]
     },
     "execution_count": 14,
     "metadata": {},
     "output_type": "execute_result"
    }
   ],
   "source": [
    "model.layers[0].layers"
   ]
  },
  {
   "cell_type": "code",
   "execution_count": 15,
   "metadata": {
    "button": false,
    "new_sheet": false,
    "run_control": {
     "read_only": false
    }
   },
   "outputs": [],
   "source": [
    "model.layers[0].trainable = False"
   ]
  },
  {
   "cell_type": "code",
   "execution_count": 16,
   "metadata": {
    "button": false,
    "new_sheet": false,
    "run_control": {
     "read_only": false
    }
   },
   "outputs": [
    {
     "name": "stdout",
     "output_type": "stream",
     "text": [
      "Model: \"sequential_1\"\n",
      "_________________________________________________________________\n",
      "Layer (type)                 Output Shape              Param #   \n",
      "=================================================================\n",
      "resnet50 (Model)             (None, 2048)              23587712  \n",
      "_________________________________________________________________\n",
      "dense_1 (Dense)              (None, 2)                 4098      \n",
      "=================================================================\n",
      "Total params: 23,591,810\n",
      "Trainable params: 4,098\n",
      "Non-trainable params: 23,587,712\n",
      "_________________________________________________________________\n"
     ]
    }
   ],
   "source": [
    "model.summary()"
   ]
  },
  {
   "cell_type": "code",
   "execution_count": 17,
   "metadata": {
    "button": false,
    "new_sheet": false,
    "run_control": {
     "read_only": false
    }
   },
   "outputs": [],
   "source": [
    "model.compile(optimizer='adam', loss='categorical_crossentropy', metrics=['accuracy'])"
   ]
  },
  {
   "cell_type": "code",
   "execution_count": 18,
   "metadata": {
    "button": false,
    "new_sheet": false,
    "run_control": {
     "read_only": false
    }
   },
   "outputs": [],
   "source": [
    "steps_per_epoch_training = len(train_generator)\n",
    "steps_per_epoch_validation = len(validation_generator)\n",
    "num_epochs = 2"
   ]
  },
  {
   "cell_type": "code",
   "execution_count": 19,
   "metadata": {
    "button": false,
    "new_sheet": false,
    "run_control": {
     "read_only": false
    }
   },
   "outputs": [
    {
     "name": "stdout",
     "output_type": "stream",
     "text": [
      "Epoch 1/2\n",
      "301/301 [==============================] - 14958s 50s/step - loss: 0.0668 - accuracy: 0.9781 - val_loss: 0.0109 - val_accuracy: 0.9384\n",
      "Epoch 2/2\n",
      "301/301 [==============================] - 13987s 46s/step - loss: 0.0159 - accuracy: 0.9966 - val_loss: 0.0013 - val_accuracy: 0.9486\n"
     ]
    }
   ],
   "source": [
    "fit_history = model.fit_generator(\n",
    "    train_generator,\n",
    "    steps_per_epoch=steps_per_epoch_training,\n",
    "    epochs=num_epochs,\n",
    "    validation_data=validation_generator,\n",
    "    validation_steps=steps_per_epoch_validation,\n",
    "    verbose=1,\n",
    ")"
   ]
  },
  {
   "cell_type": "code",
   "execution_count": 1,
   "metadata": {
    "button": false,
    "new_sheet": false,
    "run_control": {
     "read_only": false
    }
   },
   "outputs": [
    {
     "ename": "NameError",
     "evalue": "name 'model' is not defined",
     "output_type": "error",
     "traceback": [
      "\u001b[0;31m---------------------------------------------------------------------------\u001b[0m",
      "\u001b[0;31mNameError\u001b[0m                                 Traceback (most recent call last)",
      "\u001b[0;32m<ipython-input-1-da1cab8ae03a>\u001b[0m in \u001b[0;36m<module>\u001b[0;34m\u001b[0m\n\u001b[0;32m----> 1\u001b[0;31m \u001b[0mmodel\u001b[0m\u001b[0;34m.\u001b[0m\u001b[0msave\u001b[0m\u001b[0;34m(\u001b[0m\u001b[0;34m'classifier_resnet_model.h5'\u001b[0m\u001b[0;34m,\u001b[0m \u001b[0minclude_optimizer\u001b[0m\u001b[0;34m=\u001b[0m\u001b[0;32mFalse\u001b[0m\u001b[0;34m)\u001b[0m\u001b[0;34m\u001b[0m\u001b[0;34m\u001b[0m\u001b[0m\n\u001b[0m",
      "\u001b[0;31mNameError\u001b[0m: name 'model' is not defined"
     ]
    }
   ],
   "source": [
    "model.save('classifier_resnet_model.h5', include_optimizer=False)"
   ]
  },
  {
   "cell_type": "markdown",
   "metadata": {
    "button": false,
    "new_sheet": false,
    "run_control": {
     "read_only": false
    }
   },
   "source": [
    "<hr>\n",
    "\n",
    "Copyright &copy; 2020 [IBM Developer Skills Network](https://cognitiveclass.ai/?utm_source=bducopyrightlink&utm_medium=dswb&utm_campaign=bdu). This notebook and its source code are released under the terms of the [MIT License](https://bigdatauniversity.com/mit-license/)."
   ]
  }
 ],
 "metadata": {
  "kernelspec": {
   "display_name": "Python 3",
   "language": "python",
   "name": "python3"
  },
  "language_info": {
   "codemirror_mode": {
    "name": "ipython",
    "version": 3
   },
   "file_extension": ".py",
   "mimetype": "text/x-python",
   "name": "python",
   "nbconvert_exporter": "python",
   "pygments_lexer": "ipython3",
   "version": "3.7.3"
  }
 },
 "nbformat": 4,
 "nbformat_minor": 4
}
