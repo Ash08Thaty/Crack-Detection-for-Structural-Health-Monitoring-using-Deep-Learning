{
 "cells": [
  {
   "cell_type": "markdown",
   "metadata": {},
   "source": [
    "## Download Data"
   ]
  },
  {
   "cell_type": "code",
   "execution_count": 1,
   "metadata": {},
   "outputs": [
    {
     "name": "stdout",
     "output_type": "stream",
     "text": [
      "--2020-06-29 17:22:03--  https://s3-api.us-geo.objectstorage.softlayer.net/cf-courses-data/CognitiveClass/DL0321EN/data/concrete_data_week4.zip\n",
      "Resolving s3-api.us-geo.objectstorage.softlayer.net (s3-api.us-geo.objectstorage.softlayer.net)... 67.228.254.196\n",
      "Connecting to s3-api.us-geo.objectstorage.softlayer.net (s3-api.us-geo.objectstorage.softlayer.net)|67.228.254.196|:443... connected.\n",
      "HTTP request sent, awaiting response... 200 OK\n",
      "Length: 261483817 (249M) [application/zip]\n",
      "Saving to: ‘concrete_data_week4.zip’\n",
      "\n",
      "concrete_data_week4 100%[===================>] 249.37M   740KB/s    in 3m 3s   \n",
      "\n",
      "2020-06-29 17:25:06 (1.37 MB/s) - ‘concrete_data_week4.zip’ saved [261483817/261483817]\n",
      "\n"
     ]
    }
   ],
   "source": [
    "!wget https://s3-api.us-geo.objectstorage.softlayer.net/cf-courses-data/CognitiveClass/DL0321EN/data/concrete_data_week4.zip"
   ]
  },
  {
   "cell_type": "code",
   "execution_count": 2,
   "metadata": {},
   "outputs": [],
   "source": [
    "!unzip -q concrete_data_week4.zip"
   ]
  },
  {
   "cell_type": "markdown",
   "metadata": {},
   "source": [
    "## Designing a classifier using the VGG16 pre-trained model"
   ]
  },
  {
   "cell_type": "code",
   "execution_count": 3,
   "metadata": {},
   "outputs": [
    {
     "name": "stderr",
     "output_type": "stream",
     "text": [
      "Using TensorFlow backend.\n"
     ]
    }
   ],
   "source": [
    "from keras.preprocessing.image import ImageDataGenerator\n",
    "from keras.models import Sequential\n",
    "from keras.layers import Dense\n",
    "from keras.applications import VGG16\n",
    "from keras.applications.vgg16 import preprocess_input"
   ]
  },
  {
   "cell_type": "code",
   "execution_count": 4,
   "metadata": {},
   "outputs": [],
   "source": [
    "num_classes = 2\n",
    "batch_size = 100\n",
    "image_size = (224, 224)"
   ]
  },
  {
   "cell_type": "code",
   "execution_count": 5,
   "metadata": {
    "scrolled": true
   },
   "outputs": [
    {
     "name": "stdout",
     "output_type": "stream",
     "text": [
      "Found 30001 images belonging to 2 classes.\n",
      "Found 9501 images belonging to 2 classes.\n"
     ]
    }
   ],
   "source": [
    "generator = ImageDataGenerator(preprocessing_function=preprocess_input)\n",
    "\n",
    "training_generator = generator.flow_from_directory(\n",
    "    \"concrete_data_week4/train\",\n",
    "    target_size=image_size,\n",
    "    batch_size=batch_size,\n",
    "    class_mode=\"categorical\",\n",
    ")\n",
    "validation_generator = generator.flow_from_directory(\n",
    "    \"concrete_data_week4/valid\",\n",
    "    target_size=image_size,\n",
    "    batch_size=batch_size,\n",
    "    class_mode=\"categorical\",\n",
    ")"
   ]
  },
  {
   "cell_type": "code",
   "execution_count": 6,
   "metadata": {},
   "outputs": [
    {
     "name": "stdout",
     "output_type": "stream",
     "text": [
      "Downloading data from https://github.com/fchollet/deep-learning-models/releases/download/v0.1/vgg16_weights_tf_dim_ordering_tf_kernels_notop.h5\n",
      "58892288/58889256 [==============================] - 40s 1us/step\n",
      "Model: \"sequential_1\"\n",
      "_________________________________________________________________\n",
      "Layer (type)                 Output Shape              Param #   \n",
      "=================================================================\n",
      "vgg16 (Model)                (None, 512)               14714688  \n",
      "_________________________________________________________________\n",
      "dense_1 (Dense)              (None, 2)                 1026      \n",
      "=================================================================\n",
      "Total params: 14,715,714\n",
      "Trainable params: 1,026\n",
      "Non-trainable params: 14,714,688\n",
      "_________________________________________________________________\n"
     ]
    }
   ],
   "source": [
    "model_vgg16 = Sequential()\n",
    "\n",
    "model_vgg16.add(VGG16(include_top=False, pooling=\"avg\", weights=\"imagenet\",))\n",
    "model_vgg16.add(Dense(num_classes, activation=\"softmax\"))\n",
    "\n",
    "model_vgg16.layers[0].trainable = False\n",
    "\n",
    "model_vgg16.summary()"
   ]
  },
  {
   "cell_type": "code",
   "execution_count": 7,
   "metadata": {},
   "outputs": [],
   "source": [
    "model_vgg16.compile(\n",
    "    optimizer=\"adam\", loss=\"categorical_crossentropy\", metrics=[\"accuracy\"]\n",
    ")"
   ]
  },
  {
   "cell_type": "code",
   "execution_count": 8,
   "metadata": {},
   "outputs": [
    {
     "name": "stdout",
     "output_type": "stream",
     "text": [
      "Epoch 1/2\n",
      "301/301 [==============================] - 23726s 79s/step - loss: 0.1538 - accuracy: 0.9467 - val_loss: 0.0095 - val_accuracy: 0.9922\n",
      "Epoch 2/2\n",
      "301/301 [==============================] - 12014s 40s/step - loss: 0.0279 - accuracy: 0.9934 - val_loss: 1.2517e-05 - val_accuracy: 0.9954\n"
     ]
    }
   ],
   "source": [
    "num_epochs = 2\n",
    "steps_per_epoch_training = len(training_generator)\n",
    "steps_per_epoch_validation = len(validation_generator)\n",
    "\n",
    "history_vgg16 = model_vgg16.fit_generator(\n",
    "    training_generator,\n",
    "    steps_per_epoch=steps_per_epoch_training,\n",
    "    epochs=num_epochs,\n",
    "    validation_data=validation_generator,\n",
    "    validation_steps=steps_per_epoch_validation,\n",
    "    verbose=1,\n",
    ")"
   ]
  },
  {
   "cell_type": "code",
   "execution_count": 9,
   "metadata": {},
   "outputs": [],
   "source": [
    "model_vgg16.save(\"classifier_vgg16_model.h5\")"
   ]
  },
  {
   "cell_type": "markdown",
   "metadata": {},
   "source": [
    "## Evaluating our deep learning models on a test data"
   ]
  },
  {
   "cell_type": "code",
   "execution_count": 10,
   "metadata": {},
   "outputs": [
    {
     "name": "stderr",
     "output_type": "stream",
     "text": [
      "/Users/tymick/opt/anaconda3/lib/python3.7/site-packages/keras/engine/saving.py:384: UserWarning: Error in loading the saved optimizer state. As a result, your model is starting with a freshly initialized optimizer.\n",
      "  warnings.warn('Error in loading the saved optimizer '\n"
     ]
    }
   ],
   "source": [
    "from keras.models import load_model\n",
    "\n",
    "model_resnet50 = load_model(\"classifier_resnet_model.h5\")"
   ]
  },
  {
   "cell_type": "code",
   "execution_count": 11,
   "metadata": {},
   "outputs": [
    {
     "name": "stdout",
     "output_type": "stream",
     "text": [
      "Found 500 images belonging to 2 classes.\n"
     ]
    }
   ],
   "source": [
    "testing_generator = generator.flow_from_directory(\n",
    "    \"concrete_data_week4/test\", target_size=image_size, shuffle=False,\n",
    ")"
   ]
  },
  {
   "cell_type": "code",
   "execution_count": 14,
   "metadata": {},
   "outputs": [
    {
     "name": "stdout",
     "output_type": "stream",
     "text": [
      "Performance of the VGG16-trained model\n",
      "Loss: 0.00741\n",
      "Accuracy: 0.996\n"
     ]
    }
   ],
   "source": [
    "performance_vgg16 = model_vgg16.evaluate_generator(testing_generator)\n",
    "print(\"Performance of the VGG16-trained model\")\n",
    "print(\"Loss: {}\".format(round(performance_vgg16[0], 5)))\n",
    "print(\"Accuracy: {}\".format(round(performance_vgg16[1], 5)))"
   ]
  },
  {
   "cell_type": "code",
   "execution_count": 15,
   "metadata": {},
   "outputs": [
    {
     "name": "stdout",
     "output_type": "stream",
     "text": [
      "Performance of the ResNet50-trained model\n",
      "Loss: 0.11661\n",
      "Accuracy: 0.952\n"
     ]
    }
   ],
   "source": [
    "performance_resnet50 = model_resnet50.evaluate_generator(testing_generator)\n",
    "print(\"Performance of the ResNet50-trained model\")\n",
    "print(\"Loss: {}\".format(round(performance_resnet50[0], 5)))\n",
    "print(\"Accuracy: {}\".format(round(performance_resnet50[1], 5)))"
   ]
  },
  {
   "cell_type": "markdown",
   "metadata": {},
   "source": [
    "## Predicting whether the images in the test data are images of cracked concrete or not"
   ]
  },
  {
   "cell_type": "code",
   "execution_count": 17,
   "metadata": {},
   "outputs": [
    {
     "name": "stdout",
     "output_type": "stream",
     "text": [
      "First five predictions for the VGG16-trained model:\n",
      "Negative (99.7% certainty)\n",
      "Negative (92.1% certainty)\n",
      "Negative (97.0% certainty)\n",
      "Negative (98.7% certainty)\n",
      "Negative (98.1% certainty)\n"
     ]
    }
   ],
   "source": [
    "predictions_vgg16 = model_vgg16.predict_generator(testing_generator, steps=1)\n",
    "\n",
    "\n",
    "def print_prediction(prediction):\n",
    "    if prediction[0] > prediction[1]:\n",
    "        print(\"Negative ({}% certainty)\".format(round(prediction[0] * 100, 1)))\n",
    "    elif prediction[1] > prediction[0]:\n",
    "        print(\"Positive ({}% certainty)\".format(round(prediction[1] * 100, 1)))\n",
    "    else:\n",
    "        print(\"Unsure (prediction split 50–50)\")\n",
    "\n",
    "\n",
    "print(\"First five predictions for the VGG16-trained model:\")\n",
    "for i in range(5):\n",
    "    print_prediction(predictions_vgg16[i])"
   ]
  },
  {
   "cell_type": "code",
   "execution_count": 18,
   "metadata": {},
   "outputs": [
    {
     "name": "stdout",
     "output_type": "stream",
     "text": [
      "First five predictions for the ResNet50-trained model:\n",
      "Negative (100.0% certainty)\n",
      "Negative (100.0% certainty)\n",
      "Negative (100.0% certainty)\n",
      "Negative (99.9% certainty)\n",
      "Negative (99.4% certainty)\n"
     ]
    }
   ],
   "source": [
    "predictions_resnet50 = model_resnet50.predict_generator(testing_generator, steps=1)\n",
    "print(\"First five predictions for the ResNet50-trained model:\")\n",
    "for i in range(5):\n",
    "    print_prediction(predictions_resnet50[i])"
   ]
  },
  {
   "cell_type": "markdown",
   "metadata": {
    "button": false,
    "new_sheet": false,
    "run_control": {
     "read_only": false
    }
   },
   "source": [
    "<hr>\n",
    "\n",
    "Copyright &copy; 2020 [IBM Developer Skills Network](https://cognitiveclass.ai/?utm_source=bducopyrightlink&utm_medium=dswb&utm_campaign=bdu). This notebook and its source code are released under the terms of the [MIT License](https://bigdatauniversity.com/mit-license/)."
   ]
  }
 ],
 "metadata": {
  "kernelspec": {
   "display_name": "Python 3",
   "language": "python",
   "name": "python3"
  },
  "language_info": {
   "codemirror_mode": {
    "name": "ipython",
    "version": 3
   },
   "file_extension": ".py",
   "mimetype": "text/x-python",
   "name": "python",
   "nbconvert_exporter": "python",
   "pygments_lexer": "ipython3",
   "version": "3.7.3"
  }
 },
 "nbformat": 4,
 "nbformat_minor": 4
}
